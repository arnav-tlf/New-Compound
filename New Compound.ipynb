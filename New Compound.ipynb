{
 "cells": [
  {
   "cell_type": "code",
   "execution_count": 49,
   "id": "15092c7e",
   "metadata": {},
   "outputs": [],
   "source": [
    "import pandas as pd\n",
    "import numpy as np\n",
    "import keras \n",
    "import tensorflow as tf"
   ]
  },
  {
   "cell_type": "code",
   "execution_count": 8,
   "id": "8395ffdb",
   "metadata": {},
   "outputs": [
    {
     "name": "stdout",
     "output_type": "stream",
     "text": [
      "Requirement already satisfied: rdkit-pypi in c:\\users\\lenovo legion\\anaconda3\\lib\\site-packages (2021.9.4)\n",
      "Requirement already satisfied: numpy>=1.19 in c:\\users\\lenovo legion\\anaconda3\\lib\\site-packages (from rdkit-pypi) (1.20.3)\n",
      "Requirement already satisfied: Pillow in c:\\users\\lenovo legion\\anaconda3\\lib\\site-packages (from rdkit-pypi) (8.4.0)\n"
     ]
    }
   ],
   "source": [
    "!pip install rdkit-pypi"
   ]
  },
  {
   "cell_type": "code",
   "execution_count": 9,
   "id": "d6f15351",
   "metadata": {},
   "outputs": [
    {
     "ename": "ImportError",
     "evalue": "DLL load failed while importing rdBase: The specified module could not be found.",
     "output_type": "error",
     "traceback": [
      "\u001b[1;31m---------------------------------------------------------------------------\u001b[0m",
      "\u001b[1;31mImportError\u001b[0m                               Traceback (most recent call last)",
      "\u001b[1;32mC:\\Users\\LENOVO~1\\AppData\\Local\\Temp/ipykernel_13160/431376342.py\u001b[0m in \u001b[0;36m<module>\u001b[1;34m\u001b[0m\n\u001b[1;32m----> 1\u001b[1;33m \u001b[1;32mfrom\u001b[0m \u001b[0mrdkit\u001b[0m \u001b[1;32mimport\u001b[0m \u001b[0mChem\u001b[0m\u001b[1;33m\u001b[0m\u001b[1;33m\u001b[0m\u001b[0m\n\u001b[0m\u001b[0;32m      2\u001b[0m \u001b[1;32mfrom\u001b[0m \u001b[0mrdkit\u001b[0m\u001b[1;33m.\u001b[0m\u001b[0mChem\u001b[0m \u001b[1;32mimport\u001b[0m \u001b[0mDraw\u001b[0m\u001b[1;33m\u001b[0m\u001b[1;33m\u001b[0m\u001b[0m\n\u001b[0;32m      3\u001b[0m \u001b[1;32mimport\u001b[0m \u001b[0mmatplotlib\u001b[0m \u001b[1;32mas\u001b[0m \u001b[0mplt\u001b[0m\u001b[1;33m\u001b[0m\u001b[1;33m\u001b[0m\u001b[0m\n\u001b[0;32m      4\u001b[0m \u001b[0mget_ipython\u001b[0m\u001b[1;33m(\u001b[0m\u001b[1;33m)\u001b[0m\u001b[1;33m.\u001b[0m\u001b[0mrun_line_magic\u001b[0m\u001b[1;33m(\u001b[0m\u001b[1;34m'matplotlib'\u001b[0m\u001b[1;33m,\u001b[0m \u001b[1;34m'inline'\u001b[0m\u001b[1;33m)\u001b[0m\u001b[1;33m\u001b[0m\u001b[1;33m\u001b[0m\u001b[0m\n",
      "\u001b[1;32m~\\anaconda3\\lib\\site-packages\\rdkit\\__init__.py\u001b[0m in \u001b[0;36m<module>\u001b[1;34m\u001b[0m\n\u001b[0;32m     33\u001b[0m \u001b[1;33m\u001b[0m\u001b[0m\n\u001b[0;32m     34\u001b[0m \u001b[1;31m# Need to import rdBase to properly wrap exceptions                                                                                                         #  otherwise they will leak memory\u001b[0m\u001b[1;33m\u001b[0m\u001b[1;33m\u001b[0m\u001b[1;33m\u001b[0m\u001b[0m\n\u001b[1;32m---> 35\u001b[1;33m \u001b[1;32mfrom\u001b[0m \u001b[1;33m.\u001b[0m \u001b[1;32mimport\u001b[0m \u001b[0mrdBase\u001b[0m\u001b[1;33m\u001b[0m\u001b[1;33m\u001b[0m\u001b[0m\n\u001b[0m\u001b[0;32m     36\u001b[0m \u001b[1;33m\u001b[0m\u001b[0m\n\u001b[0;32m     37\u001b[0m \u001b[1;32mtry\u001b[0m\u001b[1;33m:\u001b[0m\u001b[1;33m\u001b[0m\u001b[1;33m\u001b[0m\u001b[0m\n",
      "\u001b[1;31mImportError\u001b[0m: DLL load failed while importing rdBase: The specified module could not be found."
     ]
    }
   ],
   "source": [
    "from rdkit import Chem\n",
    "from rdkit.Chem import Draw\n",
    "import matplotlib as plt\n",
    "%matplotlib inline"
   ]
  },
  {
   "cell_type": "code",
   "execution_count": 50,
   "id": "f55c4322",
   "metadata": {},
   "outputs": [],
   "source": [
    "from sklearn.preprocessing import OneHotEncoder\n",
    "from sklearn.model_selection import train_test_split\n",
    "from keras.models import Sequential\n",
    "from keras.layers import Conv1D, MaxPooling1D, Flatten , Dense, Activation,Dropout"
   ]
  },
  {
   "cell_type": "code",
   "execution_count": 51,
   "id": "a69ddf51",
   "metadata": {},
   "outputs": [],
   "source": [
    "data = pd.read_csv(\"C:\\\\Users\\\\LENOVO LEGION\\\\Desktop\\\\Machine Learning\\\\New Compound\\\\fda.csv\")"
   ]
  },
  {
   "cell_type": "code",
   "execution_count": 52,
   "id": "0463c195",
   "metadata": {},
   "outputs": [
    {
     "data": {
      "text/html": [
       "<div>\n",
       "<style scoped>\n",
       "    .dataframe tbody tr th:only-of-type {\n",
       "        vertical-align: middle;\n",
       "    }\n",
       "\n",
       "    .dataframe tbody tr th {\n",
       "        vertical-align: top;\n",
       "    }\n",
       "\n",
       "    .dataframe thead th {\n",
       "        text-align: right;\n",
       "    }\n",
       "</style>\n",
       "<table border=\"1\" class=\"dataframe\">\n",
       "  <thead>\n",
       "    <tr style=\"text-align: right;\">\n",
       "      <th></th>\n",
       "      <th>zinc_id</th>\n",
       "      <th>smiles</th>\n",
       "    </tr>\n",
       "  </thead>\n",
       "  <tbody>\n",
       "    <tr>\n",
       "      <th>0</th>\n",
       "      <td>ZINC000000000007</td>\n",
       "      <td>C=CCc1ccc(OCC(=O)N(CC)CC)c(OC)c1</td>\n",
       "    </tr>\n",
       "    <tr>\n",
       "      <th>1</th>\n",
       "      <td>ZINC000000000010</td>\n",
       "      <td>C[C@@]1(c2ccccc2)OC(C(=O)O)=CC1=O</td>\n",
       "    </tr>\n",
       "    <tr>\n",
       "      <th>2</th>\n",
       "      <td>ZINC000000000011</td>\n",
       "      <td>COc1cc(Cc2cnc(N)nc2N)cc(OC)c1N(C)C</td>\n",
       "    </tr>\n",
       "    <tr>\n",
       "      <th>3</th>\n",
       "      <td>ZINC000000000012</td>\n",
       "      <td>O=C(C[S@@](=O)C(c1ccccc1)c1ccccc1)NO</td>\n",
       "    </tr>\n",
       "    <tr>\n",
       "      <th>4</th>\n",
       "      <td>ZINC000000000014</td>\n",
       "      <td>CC[C@H]1[C@H](O)N2[C@H]3C[C@@]45c6ccccc6N(C)[C...</td>\n",
       "    </tr>\n",
       "    <tr>\n",
       "      <th>...</th>\n",
       "      <td>...</td>\n",
       "      <td>...</td>\n",
       "    </tr>\n",
       "    <tr>\n",
       "      <th>999995</th>\n",
       "      <td>ZINC000001687461</td>\n",
       "      <td>O=C1/C(=C/c2cccs2)Oc2ccccc21</td>\n",
       "    </tr>\n",
       "    <tr>\n",
       "      <th>999996</th>\n",
       "      <td>ZINC000001687464</td>\n",
       "      <td>C[C@H]1OS(=O)O[C@@H]1C</td>\n",
       "    </tr>\n",
       "    <tr>\n",
       "      <th>999997</th>\n",
       "      <td>ZINC000001687465</td>\n",
       "      <td>C[C@@H]1OS(=O)O[C@H]1C</td>\n",
       "    </tr>\n",
       "    <tr>\n",
       "      <th>999998</th>\n",
       "      <td>ZINC000001687467</td>\n",
       "      <td>OCCSC1CCCCC1</td>\n",
       "    </tr>\n",
       "    <tr>\n",
       "      <th>999999</th>\n",
       "      <td>ZINC000001687468</td>\n",
       "      <td>Clc1c(Cl)c(Cl)c(SCc2ccccc2)c(Cl)c1Cl</td>\n",
       "    </tr>\n",
       "  </tbody>\n",
       "</table>\n",
       "<p>1000000 rows × 2 columns</p>\n",
       "</div>"
      ],
      "text/plain": [
       "                 zinc_id                                             smiles\n",
       "0       ZINC000000000007                   C=CCc1ccc(OCC(=O)N(CC)CC)c(OC)c1\n",
       "1       ZINC000000000010                  C[C@@]1(c2ccccc2)OC(C(=O)O)=CC1=O\n",
       "2       ZINC000000000011                 COc1cc(Cc2cnc(N)nc2N)cc(OC)c1N(C)C\n",
       "3       ZINC000000000012               O=C(C[S@@](=O)C(c1ccccc1)c1ccccc1)NO\n",
       "4       ZINC000000000014  CC[C@H]1[C@H](O)N2[C@H]3C[C@@]45c6ccccc6N(C)[C...\n",
       "...                  ...                                                ...\n",
       "999995  ZINC000001687461                       O=C1/C(=C/c2cccs2)Oc2ccccc21\n",
       "999996  ZINC000001687464                             C[C@H]1OS(=O)O[C@@H]1C\n",
       "999997  ZINC000001687465                             C[C@@H]1OS(=O)O[C@H]1C\n",
       "999998  ZINC000001687467                                       OCCSC1CCCCC1\n",
       "999999  ZINC000001687468               Clc1c(Cl)c(Cl)c(SCc2ccccc2)c(Cl)c1Cl\n",
       "\n",
       "[1000000 rows x 2 columns]"
      ]
     },
     "execution_count": 52,
     "metadata": {},
     "output_type": "execute_result"
    }
   ],
   "source": [
    "data"
   ]
  },
  {
   "cell_type": "code",
   "execution_count": 53,
   "id": "f38d0608",
   "metadata": {},
   "outputs": [],
   "source": [
    "data = pd.DataFrame(data)"
   ]
  },
  {
   "cell_type": "code",
   "execution_count": 54,
   "id": "a233ab29",
   "metadata": {},
   "outputs": [
    {
     "data": {
      "text/plain": [
       "0         ZINC000000000007\n",
       "1         ZINC000000000010\n",
       "2         ZINC000000000011\n",
       "3         ZINC000000000012\n",
       "4         ZINC000000000014\n",
       "                ...       \n",
       "999995    ZINC000001687461\n",
       "999996    ZINC000001687464\n",
       "999997    ZINC000001687465\n",
       "999998    ZINC000001687467\n",
       "999999    ZINC000001687468\n",
       "Name: zinc_id, Length: 1000000, dtype: object"
      ]
     },
     "execution_count": 54,
     "metadata": {},
     "output_type": "execute_result"
    }
   ],
   "source": [
    "data.zinc_id"
   ]
  },
  {
   "cell_type": "code",
   "execution_count": 55,
   "id": "fa3bda10",
   "metadata": {},
   "outputs": [],
   "source": [
    "X_train, X_test, y_train, y_test = train_test_split(data.zinc_id, data.smiles, test_size=0.25, random_state=42)"
   ]
  }
 ],
 "metadata": {
  "kernelspec": {
   "display_name": "Python 3 (ipykernel)",
   "language": "python",
   "name": "python3"
  },
  "language_info": {
   "codemirror_mode": {
    "name": "ipython",
    "version": 3
   },
   "file_extension": ".py",
   "mimetype": "text/x-python",
   "name": "python",
   "nbconvert_exporter": "python",
   "pygments_lexer": "ipython3",
   "version": "3.8.8"
  }
 },
 "nbformat": 4,
 "nbformat_minor": 5
}
